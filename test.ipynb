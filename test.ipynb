{
 "cells": [
  {
   "cell_type": "code",
   "execution_count": 2,
   "metadata": {},
   "outputs": [],
   "source": [
    "import myutils.file_utils as file"
   ]
  },
  {
   "cell_type": "code",
   "execution_count": 4,
   "metadata": {},
   "outputs": [
    {
     "name": "stdout",
     "output_type": "stream",
     "text": [
      "Reading ../datas/filtered_photo_data_0622.json...Done!\n"
     ]
    }
   ],
   "source": [
    "json_data = file.read_json('../datas/filtered_photo_data_0622.json')\n",
    "\n",
    "data_list = {}\n",
    "for data in json_data:\n",
    "    data_list[data['name']] = data['keypoints'][0]"
   ]
  },
  {
   "cell_type": "code",
   "execution_count": 10,
   "metadata": {},
   "outputs": [
    {
     "name": "stdout",
     "output_type": "stream",
     "text": [
      "[0.602804025480358, 0.8861745273037153, 0.9350531697273254]\n",
      "[0.6762211446305291, 0.7957914695907302, 0.8970494270324707]\n"
     ]
    }
   ],
   "source": [
    "i = 15\n",
    "print(data_list['f_9575702779-53731740@N07.jpg'][i])\n",
    "print(data_list['f_9575701073-53731740@N07.jpg'][i])"
   ]
  },
  {
   "cell_type": "code",
   "execution_count": null,
   "metadata": {},
   "outputs": [],
   "source": []
  }
 ],
 "metadata": {
  "kernelspec": {
   "display_name": "Python 3",
   "language": "python",
   "name": "python3"
  },
  "language_info": {
   "codemirror_mode": {
    "name": "ipython",
    "version": 3
   },
   "file_extension": ".py",
   "mimetype": "text/x-python",
   "name": "python",
   "nbconvert_exporter": "python",
   "pygments_lexer": "ipython3",
   "version": "3.9.12"
  },
  "orig_nbformat": 4
 },
 "nbformat": 4,
 "nbformat_minor": 2
}
